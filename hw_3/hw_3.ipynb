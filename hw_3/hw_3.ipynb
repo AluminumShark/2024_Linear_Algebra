{
 "cells": [
  {
   "cell_type": "markdown",
   "metadata": {},
   "source": [
    "Linear Algebra HomeWork 3"
   ]
  },
  {
   "cell_type": "code",
   "execution_count": 8,
   "metadata": {},
   "outputs": [
    {
     "ename": "ModuleNotFoundError",
     "evalue": "No module named 'numpy'",
     "output_type": "error",
     "traceback": [
      "\u001b[1;31m---------------------------------------------------------------------------\u001b[0m",
      "\u001b[1;31mModuleNotFoundError\u001b[0m                       Traceback (most recent call last)",
      "Cell \u001b[1;32mIn[8], line 2\u001b[0m\n\u001b[0;32m      1\u001b[0m \u001b[38;5;66;03m# modules\u001b[39;00m\n\u001b[1;32m----> 2\u001b[0m \u001b[38;5;28;01mimport\u001b[39;00m \u001b[38;5;21;01mnumpy\u001b[39;00m \u001b[38;5;28;01mas\u001b[39;00m \u001b[38;5;21;01mnp\u001b[39;00m\n",
      "\u001b[1;31mModuleNotFoundError\u001b[0m: No module named 'numpy'"
     ]
    }
   ],
   "source": [
    "# modules\n",
    "import numpy as np"
   ]
  },
  {
   "cell_type": "markdown",
   "metadata": {},
   "source": [
    "Question 1"
   ]
  },
  {
   "cell_type": "code",
   "execution_count": null,
   "metadata": {},
   "outputs": [],
   "source": [
    "# (a)\n",
    "\n",
    "A = \"I love Linear Algebra\"\n",
    "B = \"I hate Linear Algebra\"\n",
    "C = \"I love Operations Research\"\n",
    "D = \"I hate Operations Research\"\n",
    "E = \"I love Manufacturing Data Science\"\n",
    "F = \"I hate Manufacturing Data Science\""
   ]
  },
  {
   "cell_type": "code",
   "execution_count": null,
   "metadata": {},
   "outputs": [
    {
     "name": "stdout",
     "output_type": "stream",
     "text": [
      "['i', 'love', 'linear', 'algebra']\n",
      "['i', 'hate', 'linear', 'algebra']\n",
      "['i', 'love', 'operations', 'research']\n",
      "['i', 'hate', 'operations', 'research']\n",
      "['i', 'love', 'manufacturing', 'data', 'science']\n",
      "['i', 'hate', 'manufacturing', 'data', 'science']\n"
     ]
    }
   ],
   "source": [
    "# (b)\n",
    "\n",
    "wordsA = A.lower().split()\n",
    "wordsB = B.lower().split()\n",
    "wordsC = C.lower().split()\n",
    "wordsD = D.lower().split()\n",
    "wordsE = E.lower().split()\n",
    "wordsF = F.lower().split()\n",
    "\n",
    "words_list = [wordsA, wordsB, wordsC, wordsD, wordsE, wordsF]\n",
    "\n",
    "for i in words_list:\n",
    "    print(i)"
   ]
  },
  {
   "cell_type": "code",
   "execution_count": null,
   "metadata": {},
   "outputs": [
    {
     "name": "stdout",
     "output_type": "stream",
     "text": [
      "{'algebra', 'love', 'i', 'hate', 'science', 'manufacturing', 'linear', 'operations', 'research', 'data'}\n"
     ]
    }
   ],
   "source": [
    "# (c)\n",
    "\n",
    "vocab = None\n",
    "\n",
    "for i in words_list:\n",
    "    if vocab == None:\n",
    "        vocab = set(i)\n",
    "    else:\n",
    "        vocab = vocab.union(set(i))\n",
    "\n",
    "print(vocab)"
   ]
  }
 ],
 "metadata": {
  "kernelspec": {
   "display_name": "Python 3",
   "language": "python",
   "name": "python3"
  },
  "language_info": {
   "codemirror_mode": {
    "name": "ipython",
    "version": 3
   },
   "file_extension": ".py",
   "mimetype": "text/x-python",
   "name": "python",
   "nbconvert_exporter": "python",
   "pygments_lexer": "ipython3",
   "version": "3.11.9"
  }
 },
 "nbformat": 4,
 "nbformat_minor": 2
}
